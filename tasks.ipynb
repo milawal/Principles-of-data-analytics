{
 "cells": [
  {
   "cell_type": "markdown",
   "metadata": {},
   "source": [
    "# Tasks\n"
   ]
  },
  {
   "cell_type": "markdown",
   "metadata": {},
   "source": [
    "## Task 1: Source the datasets"
   ]
  },
  {
   "cell_type": "code",
   "execution_count": 1,
   "metadata": {},
   "outputs": [
    {
     "name": "stdout",
     "output_type": "stream",
     "text": [
      "dict_keys(['data', 'target', 'frame', 'target_names', 'DESCR', 'feature_names', 'filename', 'data_module'])\n"
     ]
    }
   ],
   "source": [
    "from sklearn.datasets import load_iris\n",
    "\n",
    "#Load the Iris datasets\n",
    "iris = load_iris()\n",
    "print(iris.keys())\n"
   ]
  },
  {
   "cell_type": "code",
   "execution_count": null,
   "metadata": {},
   "outputs": [],
   "source": [
    "#To view the data\n",
    "print(iris['data'])"
   ]
  },
  {
   "cell_type": "code",
   "execution_count": null,
   "metadata": {},
   "outputs": [],
   "source": [
    "#To view the target labels\n",
    "print(iris['target'])"
   ]
  },
  {
   "cell_type": "code",
   "execution_count": null,
   "metadata": {},
   "outputs": [],
   "source": [
    "#To view the target names\n",
    "print(iris['target_names'])"
   ]
  },
  {
   "cell_type": "code",
   "execution_count": null,
   "metadata": {},
   "outputs": [],
   "source": [
    "#To view the description of the dataset\n",
    "print(iris['DESCR'])"
   ]
  },
  {
   "cell_type": "code",
   "execution_count": null,
   "metadata": {},
   "outputs": [],
   "source": [
    "#To view the feature names\n",
    "print(iris['feature_names'])"
   ]
  },
  {
   "cell_type": "markdown",
   "metadata": {},
   "source": [
    "### The load_iris() function from sklearn.datasets loads the Iris dataset adn returns every parameter embed in the dataset like the data, target, target names, feature names, description and file names. Basically, the function provides everything required to analyze the data."
   ]
  },
  {
   "cell_type": "markdown",
   "metadata": {},
   "source": [
    "## Task 2: Explore the data structure"
   ]
  },
  {
   "cell_type": "code",
   "execution_count": null,
   "metadata": {},
   "outputs": [],
   "source": [
    "from sklearn.datasets import load_iris\n",
    "import pandas as pd\n",
    "\n",
    "#Load the Iris dataset\n",
    "iris = load_iris()"
   ]
  },
  {
   "cell_type": "code",
   "execution_count": null,
   "metadata": {},
   "outputs": [],
   "source": [
    "#To load the shap of the dataset\n",
    "print(\"Shape of the dataset:\", iris['data'].shape)\n",
    "\n",
    "#The shape of the dataset is a tuple showing the number of samples (rows) and the number of features, flowers (columns)."
   ]
  },
  {
   "cell_type": "code",
   "execution_count": null,
   "metadata": {},
   "outputs": [],
   "source": [
    "#To print the first 5 rows of the data\n",
    "print(\"\\nFirst 5 rows of the data:\")\n",
    "print(pd.DataFrame(iris['data'], columns=iris['feature_names']).head())\n",
    "\n",
    "#This shows the first five rows and the corresponding values for the flowers"
   ]
  },
  {
   "cell_type": "code",
   "execution_count": null,
   "metadata": {},
   "outputs": [],
   "source": [
    "#To print the last five rows of the data\n",
    "print(\"\\nLast 5 rows of the data:\")\n",
    "print(pd.DataFrame(iris['data'], columns=iris['feature_names']).tail()) \n",
    "\n",
    "#This shows the last 5 rows of the samples in the dataset"
   ]
  },
  {
   "cell_type": "code",
   "execution_count": null,
   "metadata": {},
   "outputs": [],
   "source": [
    "#To print the feature names\n",
    "print(\"\\nFeature names:\", iris['feature_names'])\n",
    "\n",
    "#This shows the names of the features in the dataset"
   ]
  },
  {
   "cell_type": "code",
   "execution_count": null,
   "metadata": {},
   "outputs": [],
   "source": [
    "#To print the target classes\n",
    "print(\"\\nTarget classes:\", iris['target_names'])\n",
    "\n",
    "#This shows the names of the target classes for the dataset. They are represented as species of flowers for each sample in the dataset"
   ]
  },
  {
   "cell_type": "markdown",
   "metadata": {},
   "source": [
    "## Task 3: Summarizing the data"
   ]
  },
  {
   "cell_type": "code",
   "execution_count": null,
   "metadata": {},
   "outputs": [],
   "source": [
    "import numpy as np\n",
    "from sklearn.datasets import load_iris\n",
    "\n",
    "#To load the Iris dataset\n",
    "iris = load_iris()\n",
    "\n",
    "#To extract the features\n",
    "data = iris['data']\n",
    "feature_names = iris['feature_names']\n",
    "\n",
    "#To calculate the following statistics for each feature\n",
    "mean = np.mean(data, axis=0)\n",
    "minimum = np.min(data, axis=0)\n",
    "maximum = np.max(data, axis=0)\n",
    "std_dev = np.std(data, axis=0)\n",
    "median = np.median(data, axis=0)\n",
    "\n",
    "#To display the results\n",
    "for i, feature in enumerate(feature_names):\n",
    "    print(f\"Feature: {feature}\")\n",
    "    print(f\"  Mean: {mean[i]:.2f}\")\n",
    "    print(f\"  Minimum: {minimum[i]:.2f}\")\n",
    "    print(f\"  Maximum: {maximum[i]:.2f}\")\n",
    "    print(f\"  Standard Deviation: {std_dev[i]:.2f}\")\n",
    "    print(f\"  Median: {median[i]:.2f}\")\n",
    "    print(\"-\" * 40)\n"
   ]
  },
  {
   "cell_type": "markdown",
   "metadata": {},
   "source": [
    "## Task 4: Vizualising the features"
   ]
  },
  {
   "cell_type": "code",
   "execution_count": null,
   "metadata": {},
   "outputs": [],
   "source": [
    "import matplotlib.pyplot as plt\n",
    "from sklearn.datasets import load_iris\n",
    "\n",
    "#Load the Iris dataset\n",
    "iris = load_iris()\n",
    "\n",
    "#Extract the data (features)\n",
    "data = iris['data']\n",
    "feature_names = iris['feature_names']\n",
    "\n",
    "#Create subplots (1 row, 4 columns)\n",
    "fig, axes = plt.subplots(1, 4, figsize=(16, 4))\n",
    "\n",
    "#Plot histograms for each feature\n",
    "for i, feature in enumerate(feature_names):\n",
    "    axes[i].hist(data[:, i], bins=20, color='skyblue', edgecolor='black')\n",
    "    axes[i].set_title(f\"Histogram of {feature}\")\n",
    "    axes[i].set_xlabel(feature)\n",
    "    axes[i].set_ylabel('Frequency')\n",
    "\n",
    "#Adjust layout to avoid overlapping\n",
    "plt.tight_layout()\n",
    "plt.show()\n"
   ]
  },
  {
   "cell_type": "markdown",
   "metadata": {},
   "source": [
    "## Task 5: Investigating relationships between the datasets"
   ]
  },
  {
   "cell_type": "code",
   "execution_count": null,
   "metadata": {},
   "outputs": [],
   "source": [
    "import matplotlib.pyplot as plt\n",
    "import numpy as np\n",
    "from sklearn.datasets import load_iris\n",
    "\n",
    "#Load the Iris dataset\n",
    "iris = load_iris()\n",
    "\n",
    "#To Extract the features and target labels\n",
    "data = iris.data\n",
    "target = iris.target\n",
    "\n",
    "#Plotting two features from the dataset - \"sepal length\" and \"petal length\"\n",
    "feature_x = data[:, 0]  # Sepal length\n",
    "feature_y = data[:, 2]  # Petal length\n",
    "\n",
    "#To Create scatter plot\n",
    "plt.figure(figsize=(8, 6))\n",
    "\n",
    "#Plotting the points with color coding for each target label\n",
    "for i, species in enumerate(iris.target_names):\n",
    "    plt.scatter(feature_x[target == i], feature_y[target == i], label=species, alpha=0.7)\n",
    "\n",
    "#Add titles and labels\n",
    "plt.title('Scatter Plot of Sepal Length vs. Petal Length')\n",
    "plt.xlabel('Sepal Length (cm)')\n",
    "plt.ylabel('Petal Length (cm)')\n",
    "plt.legend(title=\"Iris Species\")\n",
    "\n",
    "#Show the plot\n",
    "plt.show()\n"
   ]
  },
  {
   "cell_type": "markdown",
   "metadata": {},
   "source": [
    "## Task 6 : Analyzing the relationships"
   ]
  },
  {
   "cell_type": "code",
   "execution_count": null,
   "metadata": {},
   "outputs": [],
   "source": [
    "import matplotlib.pyplot as plt\n",
    "import numpy as np\n",
    "from sklearn.datasets import load_iris\n",
    "\n",
    "#Load the Iris dataset\n",
    "iris = load_iris()\n",
    "\n",
    "#To Extract the features and target labels\n",
    "data = iris.data\n",
    "target = iris.target\n",
    "\n",
    "#Plotting two features from the dataset - \"sepal length\" and \"petal length\"\n",
    "feature_x = data[:, 0]  # Sepal length\n",
    "feature_y = data[:, 2]  # Petal length\n",
    "\n",
    "#To add a regression line to the plot using numpy.polyfit \n",
    "slope, intercept = np.polyfit(feature_x, feature_y, 1)\n",
    "\n",
    "#Create a regression line\n",
    "regression_line = slope * feature_x + intercept\n",
    "\n",
    "#Create a scatter plot\n",
    "plt.figure(figsize=(8, 6))\n",
    "\n",
    "#Plotting the points with color coding for each target label\n",
    "for i, species in enumerate(iris.target_names):\n",
    "    plt.scatter(feature_x[target == i], feature_y[target == i], label=species, alpha=0.7)\n",
    "\n",
    "#Plot the regression line\n",
    "plt.plot(feature_x, regression_line, color='black', linestyle='--', label='Regression Line')\n",
    "\n",
    "#Add titles and labels\n",
    "plt.title('Scatter Plot of Sepal Length vs. Petal Length with Regression Line')\n",
    "plt.xlabel('Sepal Length (cm)')\n",
    "plt.ylabel('Petal Length (cm)')\n",
    "plt.legend(title=\"Iris Species\")\n",
    "\n",
    "#Show the plot\n",
    "plt.show()\n"
   ]
  },
  {
   "cell_type": "markdown",
   "metadata": {},
   "source": [
    "## Task 7: Analyzing class distribution"
   ]
  },
  {
   "cell_type": "code",
   "execution_count": null,
   "metadata": {},
   "outputs": [],
   "source": [
    "import matplotlib.pyplot as plt\n",
    "import seaborn as sns\n",
    "from sklearn.datasets import load_iris\n",
    "import pandas as pd\n",
    "\n",
    "#Load the Iris dataset\n",
    "iris = load_iris()\n",
    "\n",
    "#Create a DataFrame from the dataset for easier plotting\n",
    "iris_df = pd.DataFrame(data=iris.data, columns=iris.feature_names)\n",
    "iris_df['species'] = iris.target_names[iris.target]\n",
    "\n",
    "#Create a box plot for petal length\n",
    "plt.figure(figsize=(8, 6))\n",
    "sns.boxplot(x='species', y='petal length (cm)', data=iris_df, palette=\"Set2\")\n",
    "\n",
    "#Add title and labels\n",
    "plt.title('Box Plot of Petal Lengths for Each Iris Species')\n",
    "plt.xlabel('Iris Species')\n",
    "plt.ylabel('Petal Length (cm)')\n",
    "\n",
    "#Show the plot\n",
    "plt.show()\n"
   ]
  },
  {
   "cell_type": "code",
   "execution_count": null,
   "metadata": {},
   "outputs": [],
   "source": []
  },
  {
   "cell_type": "markdown",
   "metadata": {},
   "source": [
    "## Task 8: Computing correlations"
   ]
  },
  {
   "cell_type": "code",
   "execution_count": null,
   "metadata": {},
   "outputs": [],
   "source": [
    "import matplotlib.pyplot as plt\n",
    "import seaborn as sns\n",
    "import numpy as np\n",
    "from sklearn.datasets import load_iris\n",
    "import pandas as pd\n",
    "\n",
    "#Load the Iris dataset\n",
    "iris = load_iris()\n",
    "\n",
    "#Create a DataFrame from the dataset for easier plotting\n",
    "iris_df = pd.DataFrame(data=iris.data, columns=iris.feature_names)\n",
    "\n",
    "#Calculate the correlation matrix\n",
    "correlation_matrix = iris_df.corr()\n",
    "\n",
    "#Create a heatmap to visualize the correlation matrix\n",
    "plt.figure(figsize=(8, 6))\n",
    "sns.heatmap(correlation_matrix, annot=True, cmap='coolwarm', fmt='.2f', linewidths=0.5)\n",
    "\n",
    "#Add title\n",
    "plt.title('Correlation Matrix Heatmap of Iris Dataset Features')\n",
    "\n",
    "#Show the plot\n",
    "plt.show()\n"
   ]
  },
  {
   "cell_type": "markdown",
   "metadata": {},
   "source": [
    "## Task 9:"
   ]
  },
  {
   "cell_type": "markdown",
   "metadata": {},
   "source": [
    "## End"
   ]
  }
 ],
 "metadata": {
  "kernelspec": {
   "display_name": "Python 3",
   "language": "python",
   "name": "python3"
  },
  "language_info": {
   "codemirror_mode": {
    "name": "ipython",
    "version": 3
   },
   "file_extension": ".py",
   "mimetype": "text/x-python",
   "name": "python",
   "nbconvert_exporter": "python",
   "pygments_lexer": "ipython3",
   "version": "3.12.1"
  }
 },
 "nbformat": 4,
 "nbformat_minor": 2
}
